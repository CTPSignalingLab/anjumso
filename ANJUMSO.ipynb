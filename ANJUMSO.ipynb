{
 "cells": [
  {
   "cell_type": "markdown",
   "metadata": {
    "collapsed": true,
    "pycharm": {
     "name": "#%% md\n"
    }
   },
   "source": [
    "## ANJUMSO\n",
    "\n",
    "Welcome to **ANJUMSO** - Annotated Jupyter Modelling Software.\n",
    "\n",
    "In order to run the code, please, install Anaconda 3.8: https://www.anaconda.com/products/individual\n",
    "\n",
    "After the installation, download the given repository and unpack it on your PC. In the folder you will find the\n",
    "following files:\n",
    "\n",
    "1. ANJUMSO.ipynb - JuPyTer notebook, that includes model and auxiliary functions\n",
    "2. Model Parameters.xlsx - Parameters of the model and model initial conditions that are stored as the Excel file.\n",
    "You can edit it and this will result in the parameter change in the model. Each module of the model has its own\n",
    "parameters and they are stored on the corresponding sheets of the Excel file\n",
    "3. Exp_data.xlsx - ANJUMSO can read and display experimental data for the comparison with the modeling results\n",
    "\n",
    "Excel files are to be stored in the same folder as the model.\n",
    "\n",
    "The example model is the model of platelet collagen receptor GPVI and is based on the models from:\n",
    "Martyanov *et. al.* The Biophys. J. 2020; Garzon Dasgupta *et. al.* Life 2020; Sveshnikova *et. al.* JTH 2016.\n",
    "Model validation data were taken from: Dunster *et. al.* PLOS Comp. Biol. 2015; Poulter *et. al.* JTH 2017.\n",
    "\n",
    "To run the model - execute all of the code cells. You can change the parameters of the model dynamically\n",
    "by passing the model the name of the module, the name of the parameter and the range of the parameter variation.\n",
    "You can also change the variables that are displayed in the plots by changing of the corresponding variable number.\n",
    "The instructions for these are given in the corresponding code parts.\n",
    "\n",
    "Enjoy!"
   ]
  }
 ],
 "metadata": {
  "kernelspec": {
   "display_name": "Python 3",
   "language": "python",
   "name": "python3"
  },
  "language_info": {
   "codemirror_mode": {
    "name": "ipython",
    "version": 2
   },
   "file_extension": ".py",
   "mimetype": "text/x-python",
   "name": "python",
   "nbconvert_exporter": "python",
   "pygments_lexer": "ipython2",
   "version": "2.7.6"
  }
 },
 "nbformat": 4,
 "nbformat_minor": 0
}